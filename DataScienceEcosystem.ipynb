{
 "cells": [
  {
   "cell_type": "markdown",
   "id": "99101ae9-4515-473a-ae4a-7e034fe09f2c",
   "metadata": {},
   "source": [
    "# Data Science Tools and Ecosystem"
   ]
  },
  {
   "cell_type": "markdown",
   "id": "c2c41570-e144-4e8a-9fbd-a3950e666f93",
   "metadata": {},
   "source": [
    "In this notebook, Data Science tools and Ecosystem are summarized."
   ]
  },
  {
   "cell_type": "markdown",
   "id": "3756cf83-ba8e-43c1-b5a9-099c505df4de",
   "metadata": {},
   "source": [
    "Some of the popular languages that Data Scientists use are:\n",
    "1. Python\n",
    "2. R\n",
    "3. Scala"
   ]
  },
  {
   "cell_type": "markdown",
   "id": "0cf985ee-b5bc-44c6-ba3f-9de2bf2f1cf8",
   "metadata": {},
   "source": [
    "| Data Science Tools |\n",
    "| ------------------ |\n",
    "| RStudio     |\n",
    "| Apache Zeppelin   |\n",
    "| Jupyter |\n",
    " "
   ]
  },
  {
   "cell_type": "markdown",
   "id": "5d095789-b67f-4621-bd35-bf0c40003e54",
   "metadata": {},
   "source": [
    "### Below are a few examples of evaluating arithmetic expressions in Python\n",
    "$$\n",
    "  \\infty\n",
    "$$\n",
    "$$\n",
    "  \\frac{4}{3}\n",
    "$$\n",
    "$$\n",
    "  \\hat{X}\n",
    "$$"
   ]
  },
  {
   "cell_type": "code",
   "execution_count": 2,
   "id": "b0e58fb3-2191-44f8-aac9-95a79ee286be",
   "metadata": {
    "tags": []
   },
   "outputs": [
    {
     "data": {
      "text/plain": [
       "17"
      ]
     },
     "execution_count": 2,
     "metadata": {},
     "output_type": "execute_result"
    }
   ],
   "source": [
    "#This a simple arithmetic expression to mutiply then add integers\n",
    "(3*4)+5"
   ]
  },
  {
   "cell_type": "code",
   "execution_count": 5,
   "id": "2874da9b-6c1c-4b98-9d8e-1c0a3f3ba0f0",
   "metadata": {
    "tags": []
   },
   "outputs": [
    {
     "name": "stdout",
     "output_type": "stream",
     "text": [
      "3.3333333333333335\n"
     ]
    }
   ],
   "source": [
    "#This will convert 200 minutes to hours by diving by 60\n",
    "minutes = 200\n",
    "hour_time = 60\n",
    "minutes_to_hours = minutes/hour_time\n",
    "print(minutes_to_hours)"
   ]
  },
  {
   "cell_type": "markdown",
   "id": "bae8fbbd-4937-44ae-be4e-cbc86bd46711",
   "metadata": {},
   "source": [
    "Objectives:\n",
    "- learn the languages of data science\n",
    "- learn popular version control service git\n",
    "- learn basic data visualization around R\n",
    "- learn how to use the Jupyter ecosystem"
   ]
  },
  {
   "cell_type": "markdown",
   "id": "76f34521-9706-4689-b30f-b92dd8c4b34c",
   "metadata": {
    "tags": []
   },
   "source": [
    "## Author\n",
    "Harrison"
   ]
  },
  {
   "cell_type": "code",
   "execution_count": null,
   "id": "87000253-b220-44c8-9388-c0eadc588739",
   "metadata": {},
   "outputs": [],
   "source": []
  }
 ],
 "metadata": {
  "kernelspec": {
   "display_name": "Python 3 (ipykernel)",
   "language": "python",
   "name": "python3"
  },
  "language_info": {
   "codemirror_mode": {
    "name": "ipython",
    "version": 3
   },
   "file_extension": ".py",
   "mimetype": "text/x-python",
   "name": "python",
   "nbconvert_exporter": "python",
   "pygments_lexer": "ipython3",
   "version": "3.11.3"
  }
 },
 "nbformat": 4,
 "nbformat_minor": 5
}
